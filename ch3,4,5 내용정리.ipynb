{
 "cells": [
  {
   "cell_type": "markdown",
   "id": "ecdeef1c",
   "metadata": {},
   "source": [
    "Ch.3 List & Tuple\n",
    "============\n",
    "\n",
    "-리스트는 동적 배열, 튜플은 정적 배열.\n",
    "\n",
    "-책은 약간 C,C++스타일로 설명이 되어있음.\n",
    "\n",
    "-리스트와 튜플안의 i번째 값을 '읽는' 동작은 O(1)의 시간이 걸린다\n",
    "\n",
    "-해당 값을 찾는 작업을 해시를 이용하면 O(1), 정렬이 되어있는 리스트와 튜플의 경우 O(logN)의 시간이걸린다\n"
   ]
  },
  {
   "cell_type": "code",
   "execution_count": 3,
   "id": "3e9b3f2a",
   "metadata": {},
   "outputs": [
    {
     "name": "stdout",
     "output_type": "stream",
     "text": [
      "38.7 ns ± 3.68 ns per loop (mean ± std. dev. of 7 runs, 10000000 loops each)\n"
     ]
    }
   ],
   "source": [
    "%%timeit l = list(range(10))\\\n",
    "l[5]"
   ]
  },
  {
   "cell_type": "code",
   "execution_count": 4,
   "id": "5d8fa233",
   "metadata": {},
   "outputs": [
    {
     "name": "stdout",
     "output_type": "stream",
     "text": [
      "34.8 ns ± 2.19 ns per loop (mean ± std. dev. of 7 runs, 10000000 loops each)\n"
     ]
    }
   ],
   "source": [
    "%%timeit l = list(range(10000000))\n",
    "l[100000]"
   ]
  },
  {
   "cell_type": "markdown",
   "id": "2029d529",
   "metadata": {},
   "source": [
    "* 리스트의 선형탐색"
   ]
  },
  {
   "cell_type": "code",
   "execution_count": null,
   "id": "70c25954",
   "metadata": {},
   "outputs": [],
   "source": [
    "def linear_search(needle,array):\n",
    "    for i,item in enumerate(array):\n",
    "        if item==needle:\n",
    "            return i\n",
    "    return -1"
   ]
  },
  {
   "cell_type": "markdown",
   "id": "a7f3446b",
   "metadata": {},
   "source": [
    "3.1 더 효율적인 탐색\n",
    "=================="
   ]
  },
  {
   "cell_type": "markdown",
   "id": "ee8ad0a9",
   "metadata": {},
   "source": [
    "* 정렬되어있는 리스트에서 이진 탐색을 이용한 효율적인 탐색\n",
    "\n",
    "    참고) 사전에서 탐색은 O(1)이 걸리나 리스트에서 사전으로 자료형을 바꾸는 데에 O(N)만큼 시간이 들어 무의미 "
   ]
  },
  {
   "cell_type": "code",
   "execution_count": null,
   "id": "7e130f8c",
   "metadata": {},
   "outputs": [],
   "source": [
    "def binary_search(needle, haystack):\n",
    "    imin,imax = 0,len(haystack)\n",
    "    while True:\n",
    "        if imin > imax:\n",
    "            return -1\n",
    "        midpoint = (imin + imax) // 2\n",
    "        if haystack[midpoint] > needle:\n",
    "            imax = midpoint\n",
    "        elif haystack[midpoint] < needle:\n",
    "            imin = midpoint + 1                     # because of the cases such as imin=0,imax=1,needle=haystack[imax]\n",
    "        else:\n",
    "            return midpoint"
   ]
  },
  {
   "cell_type": "markdown",
   "id": "c91390da",
   "metadata": {},
   "source": [
    "+ 예시) bisect 모듈을 이용한 가까운 값 찾기"
   ]
  },
  {
   "cell_type": "code",
   "execution_count": 6,
   "id": "d31d4c83",
   "metadata": {},
   "outputs": [
    {
     "name": "stdout",
     "output_type": "stream",
     "text": [
      "[138, 142, 182, 356, 376, 456, 512, 516, 699, 776]\n",
      "Closest value to -250: 138\n",
      "Closest value to 500: 512\n",
      "Closest value to 1100: 776\n"
     ]
    }
   ],
   "source": [
    "import bisect\n",
    "import random\n",
    "\n",
    "\n",
    "def find_closest(haystack, needle):\n",
    "    # bisect.bisect_left will return the first value in the haystack\n",
    "    # that is greater than the needle\n",
    "    i = bisect.bisect_left(haystack, needle)\n",
    "    if i == len(haystack):\n",
    "        return i - 1\n",
    "    elif haystack[i] == needle:\n",
    "        return i\n",
    "    elif i > 0:\n",
    "        j = i - 1\n",
    "        # since we know the value is larger than needle (and vice versa for the\n",
    "        # value at j), we don't need to use absolute values here\n",
    "        if haystack[i] - needle > needle - haystack[j]:\n",
    "            return j\n",
    "    return i\n",
    "\n",
    "\n",
    "if __name__ == \"__main__\":\n",
    "    important_numbers = []\n",
    "    for i in range(10):\n",
    "        new_number = random.randint(0, 1000)\n",
    "        bisect.insort(important_numbers, new_number)\n",
    "\n",
    "    # important_numbers will already be in order because we inserted new elements\n",
    "    # with bisect.insort\n",
    "    print(important_numbers)\n",
    "    # > [14, 265, 496, 661, 683, 734, 881, 892, 973, 992]\n",
    "\n",
    "    closest_index = find_closest(important_numbers, -250)\n",
    "    print(f\"Closest value to -250: {important_numbers[closest_index]}\")\n",
    "    # > Closest value to -250: 14\n",
    "\n",
    "    closest_index = find_closest(important_numbers, 500)\n",
    "    print(f\"Closest value to 500: {important_numbers[closest_index]}\")\n",
    "    # > Closest value to 500: 496\n",
    "\n",
    "    closest_index = find_closest(important_numbers, 1100)\n",
    "    print(f\"Closest value to 1100: {important_numbers[closest_index]}\")\n",
    "    # > Closest value to 1100: 992\n"
   ]
  },
  {
   "cell_type": "markdown",
   "id": "637ea2d7",
   "metadata": {},
   "source": [
    "3.2 리스트와 튜플\n",
    "===============\n",
    "\n",
    "* 리스트:동적 / 튜플:정적\n",
    "* 튜플은 파이썬 런타임에서 캐시하므로 사용할 때마다 커널에 메모리를 요청하지 않아도 된다.\n",
    "* 크기가 N인 꽉 찬 리스트에 새로운 항목을 추가하면 여유분으로 M만큼 메모리를 할당한다. (M>N)\n",
    "\n",
    "    -메모리 할당과 복사 요청 횟수를 줄이기 위함.\n",
    "    \n",
    "    -ex) N : 0 , 1-4 , 5-8 , 9-16 , ... , 991-1120  / M : 0 , 4   , 8   , 16   , ... , 1120"
   ]
  },
  {
   "cell_type": "markdown",
   "id": "18324ddd",
   "metadata": {},
   "source": [
    "List\n",
    "----"
   ]
  },
  {
   "cell_type": "markdown",
   "id": "6e7b1f45",
   "metadata": {},
   "source": [
    "* 예제) append와 리스트 내포의 메모리 사용량과 실행 시간 차이 비교"
   ]
  },
  {
   "cell_type": "code",
   "execution_count": 16,
   "id": "a4310de6",
   "metadata": {},
   "outputs": [
    {
     "name": "stdout",
     "output_type": "stream",
     "text": [
      "The memory_profiler extension is already loaded. To reload it, use:\n",
      "  %reload_ext memory_profiler\n",
      "peak memory: 61.61 MiB, increment: 3.50 MiB\n"
     ]
    }
   ],
   "source": [
    "import memory_profiler \n",
    "%load_ext memory_profiler\n",
    "\n",
    "%memit [i*i for i in range(100000)]"
   ]
  },
  {
   "cell_type": "code",
   "execution_count": 17,
   "id": "1ce9bac8",
   "metadata": {},
   "outputs": [
    {
     "name": "stdout",
     "output_type": "stream",
     "text": [
      "peak memory: 59.61 MiB, increment: 5.98 MiB\n"
     ]
    }
   ],
   "source": [
    "%%memit l = []\n",
    "for i in range(100000):\n",
    "    l.append(i*2)"
   ]
  },
  {
   "cell_type": "code",
   "execution_count": 18,
   "id": "b4c8bb45",
   "metadata": {},
   "outputs": [
    {
     "name": "stdout",
     "output_type": "stream",
     "text": [
      "16.5 ms ± 1.26 ms per loop (mean ± std. dev. of 7 runs, 100 loops each)\n"
     ]
    }
   ],
   "source": [
    "%%timeit l = []\n",
    "for i in range(100000):\n",
    "    l.append(i*2)"
   ]
  },
  {
   "cell_type": "markdown",
   "id": "f4f3557d",
   "metadata": {},
   "source": [
    "Tuple\n",
    "-----"
   ]
  },
  {
   "cell_type": "markdown",
   "id": "3c38e0b1",
   "metadata": {},
   "source": [
    "- 파이썬은 GC를 통해 더는 사용되지 않는 변수에 할당된 메모리를 반환하지만 크기가 20이하인 튜플은 크기별로 최대 2만개까지 즉시 회수하지 않고 나중을 위해 저장해 둔다. -> 쉽고 빠르게 생성 가능\n",
    "- 리스트와 다르가 크기가 1억이면 정확히 1억개 만큼의 메모리를 사용한다. (N,M)\n",
    "- Good : 빠른생성, 메모리 부담 낮음\n",
    "- Bad  : 내용변경 불가"
   ]
  },
  {
   "cell_type": "markdown",
   "id": "6eb69640",
   "metadata": {},
   "source": [
    "Ch.4 Set & Dictionary\n",
    "=================="
   ]
  },
  {
   "cell_type": "markdown",
   "id": "a20e038d",
   "metadata": {},
   "source": [
    "- 삽입연산, search 모두 O(1).\n",
    "- 메모리 사용량 많음"
   ]
  },
  {
   "cell_type": "markdown",
   "id": "b661d863",
   "metadata": {},
   "source": [
    "* 예시) 리스트와 셋에서 유일한 이름 찾기"
   ]
  },
  {
   "cell_type": "code",
   "execution_count": 2,
   "id": "629a8cdd",
   "metadata": {},
   "outputs": [
    {
     "name": "stdout",
     "output_type": "stream",
     "text": [
      "Number of unique names from set method: 2\n",
      "Number of unique names from list method: 2\n",
      "Finding unique names in a phonebook of length 1000 using lists took: 2.466297e-02 seconds\n",
      "Finding unique names in a phonebook of length 1000 using sets took: 4.988023e-04 seconds\n"
     ]
    }
   ],
   "source": [
    "import random\n",
    "import string\n",
    "import timeit\n",
    "\n",
    "\n",
    "def list_unique_names(phonebook):\n",
    "    unique_names = []\n",
    "    for name, phonenumber in phonebook:\n",
    "        first_name, last_name = name.split(\" \", 1)\n",
    "        for unique in unique_names:\n",
    "            if unique == first_name:\n",
    "                break\n",
    "        else:\n",
    "            unique_names.append(first_name)\n",
    "    return len(unique_names)\n",
    "\n",
    "\n",
    "def set_unique_names(phonebook):\n",
    "    unique_names = set()\n",
    "    for name, phonenumber in phonebook:\n",
    "        first_name, last_name = name.split(\" \", 1)\n",
    "        unique_names.add(first_name)\n",
    "    return len(unique_names)\n",
    "\n",
    "\n",
    "def random_name():\n",
    "    first_name = \"\".join(random.sample(string.ascii_letters, 8))\n",
    "    last_name = \"\".join(random.sample(string.ascii_letters, 8))\n",
    "    return \"{} {}\".format(first_name, last_name)\n",
    "\n",
    "\n",
    "if __name__ == \"__main__\":\n",
    "    phonebook = [(\"John Doe\", \"555-555-5555\"), (\"Albert Einstein\", \"212-555-5555\")]\n",
    "\n",
    "    print(\"Number of unique names from set method:\", set_unique_names(phonebook))\n",
    "    print(\"Number of unique names from list method:\", list_unique_names(phonebook))\n",
    "\n",
    "    setup = (\n",
    "        \"from __main__ import (large_phonebook, set_unique_names, list_unique_names)\"\n",
    "    )\n",
    "    iterations = 50\n",
    "    large_phonebook = [(random_name(), \"555-555-5555\") for i in range(1000)]\n",
    "\n",
    "    t = timeit.timeit(\n",
    "        stmt=\"list_unique_names(large_phonebook)\", setup=setup, number=iterations\n",
    "    )\n",
    "    print(\n",
    "        f\"Finding unique names in a phonebook of length {len(large_phonebook)} \"\n",
    "        f\"using lists took: {t / iterations:2e} seconds\"\n",
    "    )\n",
    "\n",
    "    t = timeit.timeit(\n",
    "        stmt=\"set_unique_names(large_phonebook)\", setup=setup, number=iterations\n",
    "    )\n",
    "    print(\n",
    "        f\"Finding unique names in a phonebook of length {len(large_phonebook)} \"\n",
    "        f\"using sets took: {t / iterations:2e} seconds\"\n",
    "    )\n"
   ]
  },
  {
   "cell_type": "markdown",
   "id": "93877e1f",
   "metadata": {},
   "source": [
    "4.1 사전과 셋의 동작 원리\n",
    "----------------------"
   ]
  },
  {
   "cell_type": "markdown",
   "id": "93f46523",
   "metadata": {},
   "source": [
    "* 예제 4-4 사전 탐색 과정"
   ]
  },
  {
   "cell_type": "code",
   "execution_count": 1,
   "id": "d283cbc1",
   "metadata": {},
   "outputs": [],
   "source": [
    "def index_sequence(key, mask=0b111, PERTURB_SHIFT=5):\n",
    "    perturb = hash(key)\n",
    "    i = perturb & mask\n",
    "    yield i\n",
    "    while True:\n",
    "        perturb >>= PERTURB_SHIFT\n",
    "        i = (i * 5 + perturb + 1) & mask\n",
    "        yield i"
   ]
  },
  {
   "cell_type": "markdown",
   "id": "4effbdc1",
   "metadata": {},
   "source": [
    "* 예제 4-5 사용자 정의 해시 함수"
   ]
  },
  {
   "cell_type": "code",
   "execution_count": 6,
   "id": "5f01bc34",
   "metadata": {},
   "outputs": [
    {
     "name": "stdout",
     "output_type": "stream",
     "text": [
      "Adding Rome, San Francisco, New York and Barcelona to a set.  New York and Barcenlona will collide!\n"
     ]
    }
   ],
   "source": [
    "class City(str):\n",
    "    def __hash__(self):\n",
    "        return ord(self[0])\n",
    "\n",
    "\n",
    "if __name__ == \"__main__\":\n",
    "    print(\n",
    "        \"Adding Rome, San Francisco, New York and Barcelona to a set.  New York and Barcenlona will collide!\"\n",
    "    )\n",
    "    # We create a dictionary where we assign arbitrary values to cities\n",
    "    data = {\n",
    "        City(\"Rome\"): \"Italy\",\n",
    "        City(\"San Francisco\"): \"USA\",\n",
    "        City(\"New York\"): \"USA\",\n",
    "        City(\"Barcelona\"): \"Spain\",\n",
    "    }"
   ]
  },
  {
   "cell_type": "markdown",
   "id": "e44011db",
   "metadata": {},
   "source": [
    "* 사용자 정의 해시 예시 하나더\n",
    "\n",
    "해석 : 해시를 직접 만들어 Point(1,1)를 아무리 여러개 만들어도 같은 '해시값'을 가지게 만들어 동일시 하게 해버린다."
   ]
  },
  {
   "cell_type": "code",
   "execution_count": 15,
   "id": "1e6b798c",
   "metadata": {},
   "outputs": [
    {
     "name": "stdout",
     "output_type": "stream",
     "text": [
      "Test with default hash function\n",
      "Contents of set([p1, p2]):  {<__main__.Point object at 0x7f0990582e50>, <__main__.Point object at 0x7f0990582b50>}\n",
      "Point(1, 1) in set([p1, p2]) =  False\n",
      "\n",
      "Test with custom hash function\n",
      "Contents of set([p1, p2]):  {<__main__.PointHash object at 0x7f0990582710>}\n",
      "Point(1, 1) in set([p1, p2]) =  True\n"
     ]
    }
   ],
   "source": [
    "class Point(object):\n",
    "    def __init__(self, x, y):\n",
    "        self.x, self.y = x, y\n",
    "\n",
    "\n",
    "class PointHash(object):\n",
    "    def __init__(self, x, y):\n",
    "        self.x, self.y = x, y\n",
    "\n",
    "    def __hash__(self):\n",
    "        return hash((self.x, self.y))\n",
    "\n",
    "    def __eq__(self, other):\n",
    "        return self.x == other.x and self.y == other.y\n",
    "\n",
    "\n",
    "if __name__ == \"__main__\":\n",
    "    print(\"Test with default hash function\")\n",
    "    p1 = Point(1, 1)\n",
    "    p2 = Point(1, 1)\n",
    "    points = set([p1, p2])\n",
    "    print(\"Contents of set([p1, p2]): \", points)\n",
    "    print(\"Point(1, 1) in set([p1, p2]) = \", (Point(1, 1) in points))\n",
    "\n",
    "    print(\"\\nTest with custom hash function\")\n",
    "    p1 = PointHash(1, 1)\n",
    "    p2 = PointHash(1, 1)\n",
    "    points = set([p1, p2])\n",
    "    print(\"Contents of set([p1, p2]): \", points)\n",
    "    print(\"Point(1, 1) in set([p1, p2]) = \", (PointHash(1, 1) in points))\n"
   ]
  },
  {
   "cell_type": "code",
   "execution_count": 8,
   "id": "a10882c4",
   "metadata": {},
   "outputs": [
    {
     "data": {
      "text/plain": [
       "2"
      ]
     },
     "execution_count": 8,
     "metadata": {},
     "output_type": "execute_result"
    }
   ],
   "source": [
    "ord(\"J\") & 0b111"
   ]
  },
  {
   "cell_type": "code",
   "execution_count": 13,
   "id": "dfcc6d9a",
   "metadata": {},
   "outputs": [
    {
     "data": {
      "text/plain": [
       "3713080549409410656"
      ]
     },
     "execution_count": 13,
     "metadata": {},
     "output_type": "execute_result"
    }
   ],
   "source": [
    "hash((0,1))"
   ]
  },
  {
   "cell_type": "markdown",
   "id": "59f7c8f3",
   "metadata": {},
   "source": [
    "4.2 사전과 네임스페이스\n",
    "====================="
   ]
  },
  {
   "cell_type": "markdown",
   "id": "467235bb",
   "metadata": {},
   "source": [
    "- 변수,함수,모듈이 사용될 때 그 객체를 어디서 찾을지 결정하는 계층이 있다.\n",
    "- 가장 먼저 지역 변수를 담은 locals()배열을 찾는다.\n",
    "- 없다면 globals()사전에서 찾는다.\n",
    "- 또 없다면 마지막으로 builtin 객체에서 찾는다.\n",
    "- local --> global --> builtin\n",
    "- 자세한 내용은 책 p.126참고"
   ]
  },
  {
   "cell_type": "markdown",
   "id": "66a77cd1",
   "metadata": {},
   "source": [
    "test3 , test2 ,test1 순으로 local , gloabl , builtin 이다."
   ]
  },
  {
   "cell_type": "code",
   "execution_count": 16,
   "id": "8b5520e5",
   "metadata": {},
   "outputs": [],
   "source": [
    "import math\n",
    "from math import sin\n",
    "\n",
    "\n",
    "def test1(x):\n",
    "    \"\"\"\n",
    "    >>> %timeit test1(123_456)\n",
    "    162 µs ± 3.82 µs per loop (mean ± std. dev. of 7 runs, 10000 loops each)\n",
    "    \"\"\"\n",
    "    res = 1\n",
    "    for _ in range(1000):\n",
    "        res += math.sin(x)\n",
    "    return res\n",
    "\n",
    "\n",
    "def test2(x):\n",
    "    \"\"\"\n",
    "    >>> %timeit test2(123_456)\n",
    "    124 µs ± 6.77 µs per loop (mean ± std. dev. of 7 runs, 10000 loops each)\n",
    "    \"\"\"\n",
    "    res = 1\n",
    "    for _ in range(1000):\n",
    "        res += sin(x)\n",
    "    return res\n",
    "\n",
    "\n",
    "def test3(x, sin=math.sin):\n",
    "    \"\"\"\n",
    "    >>> %timeit test3(123_456)\n",
    "    105 µs ± 3.35 µs per loop (mean ± std. dev. of 7 runs, 10000 loops each)\n",
    "    \"\"\"\n",
    "    res = 1\n",
    "    for _ in range(1000):\n",
    "        res += sin(x)\n",
    "    return res\n"
   ]
  },
  {
   "cell_type": "code",
   "execution_count": 18,
   "id": "72a6c061",
   "metadata": {},
   "outputs": [
    {
     "name": "stdout",
     "output_type": "stream",
     "text": [
      " 10           0 LOAD_CONST               1 (1)\n",
      "              2 STORE_FAST               1 (res)\n",
      "\n",
      " 11           4 SETUP_LOOP              30 (to 36)\n",
      "              6 LOAD_GLOBAL              0 (range)\n",
      "              8 LOAD_CONST               2 (1000)\n",
      "             10 CALL_FUNCTION            1\n",
      "             12 GET_ITER\n",
      "        >>   14 FOR_ITER                18 (to 34)\n",
      "             16 STORE_FAST               2 (_)\n",
      "\n",
      " 12          18 LOAD_FAST                1 (res)\n",
      "             20 LOAD_GLOBAL              1 (math)\n",
      "             22 LOAD_METHOD              2 (sin)\n",
      "             24 LOAD_FAST                0 (x)\n",
      "             26 CALL_METHOD              1\n",
      "             28 INPLACE_ADD\n",
      "             30 STORE_FAST               1 (res)\n",
      "             32 JUMP_ABSOLUTE           14\n",
      "        >>   34 POP_BLOCK\n",
      "\n",
      " 13     >>   36 LOAD_FAST                1 (res)\n",
      "             38 RETURN_VALUE\n",
      "----------------------------------------------------------------------------------------------------\n",
      " 21           0 LOAD_CONST               1 (1)\n",
      "              2 STORE_FAST               1 (res)\n",
      "\n",
      " 22           4 SETUP_LOOP              28 (to 34)\n",
      "              6 LOAD_GLOBAL              0 (range)\n",
      "              8 LOAD_CONST               2 (1000)\n",
      "             10 CALL_FUNCTION            1\n",
      "             12 GET_ITER\n",
      "        >>   14 FOR_ITER                16 (to 32)\n",
      "             16 STORE_FAST               2 (_)\n",
      "\n",
      " 23          18 LOAD_FAST                1 (res)\n",
      "             20 LOAD_GLOBAL              1 (sin)\n",
      "             22 LOAD_FAST                0 (x)\n",
      "             24 CALL_FUNCTION            1\n",
      "             26 INPLACE_ADD\n",
      "             28 STORE_FAST               1 (res)\n",
      "             30 JUMP_ABSOLUTE           14\n",
      "        >>   32 POP_BLOCK\n",
      "\n",
      " 24     >>   34 LOAD_FAST                1 (res)\n",
      "             36 RETURN_VALUE\n",
      "----------------------------------------------------------------------------------------------------\n",
      " 32           0 LOAD_CONST               1 (1)\n",
      "              2 STORE_FAST               2 (res)\n",
      "\n",
      " 33           4 SETUP_LOOP              28 (to 34)\n",
      "              6 LOAD_GLOBAL              0 (range)\n",
      "              8 LOAD_CONST               2 (1000)\n",
      "             10 CALL_FUNCTION            1\n",
      "             12 GET_ITER\n",
      "        >>   14 FOR_ITER                16 (to 32)\n",
      "             16 STORE_FAST               3 (_)\n",
      "\n",
      " 34          18 LOAD_FAST                2 (res)\n",
      "             20 LOAD_FAST                1 (sin)\n",
      "             22 LOAD_FAST                0 (x)\n",
      "             24 CALL_FUNCTION            1\n",
      "             26 INPLACE_ADD\n",
      "             28 STORE_FAST               2 (res)\n",
      "             30 JUMP_ABSOLUTE           14\n",
      "        >>   32 POP_BLOCK\n",
      "\n",
      " 35     >>   34 LOAD_FAST                2 (res)\n",
      "             36 RETURN_VALUE\n"
     ]
    }
   ],
   "source": [
    "import dis\n",
    "\n",
    "dis.dis(test1)\n",
    "print('-'*100)\n",
    "dis.dis(test2)\n",
    "print('-'*100)\n",
    "dis.dis(test3)"
   ]
  },
  {
   "cell_type": "markdown",
   "id": "f8ee051a",
   "metadata": {},
   "source": [
    "Ch.5 이터레이터와 제너레이터\n",
    "========================="
   ]
  },
  {
   "cell_type": "markdown",
   "id": "a7bb2155",
   "metadata": {},
   "source": [
    "리스트는 무조건 전의 내용을 다 저장\n",
    "\n",
    "이터레이터,제너레이터는 메모리 사용량이 '거의 없음'\n",
    "\n",
    "(구체적으로 설명된게 잘없음 대부분 결과값을 하나씩 메모리에 저장해둔다는 말만 있음. 그러면 이전거는 낮은 메모리 계층에 저장해둔다는건가? 잘 모르겠음...)\n",
    "\n",
    "피보나치 수 리스트를 여러 번 참조해야 한다면 리스트가 나을 수 있다.\n",
    "\n",
    "CPU속도와 메모리 효율성 중 어느 쪽을 최적화할지 결정해야 한다.  ---> trade-off !!\n",
    "\n",
    "일반적인 함수의 경우 return이나 assert등을 만나면 함수가 종료되어 버린다.\n",
    "\n",
    "하지만 yield를 사용한 제너레이터로 만든 함수의 경우 '멈추었다가' 다시 call을 하면 그때부터 다시 돈다."
   ]
  },
  {
   "cell_type": "code",
   "execution_count": 19,
   "id": "87cd536b",
   "metadata": {},
   "outputs": [],
   "source": [
    "import timeit\n",
    "\n",
    "\n",
    "def fibonacci_list(num_items):\n",
    "    numbers = []\n",
    "    a, b = 0, 1\n",
    "    while len(numbers) < num_items:\n",
    "        numbers.append(a)\n",
    "        a, b = b, a + b\n",
    "    return numbers\n",
    "\n",
    "\n",
    "def fibonacci_gen(num_items):\n",
    "    a, b = 0, 1\n",
    "    while num_items:\n",
    "        yield a\n",
    "        a, b = b, a + b\n",
    "        num_items -= 1"
   ]
  },
  {
   "cell_type": "code",
   "execution_count": 22,
   "id": "06af155b",
   "metadata": {},
   "outputs": [
    {
     "name": "stdout",
     "output_type": "stream",
     "text": [
      "fibonacci_list took 1.04754e-06s to calculate 2 fibonacci numbers\n",
      "fibonacci_gen took 5.43027e-07s to calculate 2 fibonacci numbers\n",
      "fibonacci_list took 2.00265e-05s to calculate 100 fibonacci numbers\n",
      "fibonacci_gen took 1.28990e-05s to calculate 100 fibonacci numbers\n",
      "fibonacci_list took 2.18072e-04s to calculate 1000 fibonacci numbers\n",
      "fibonacci_gen took 1.47779e-04s to calculate 1000 fibonacci numbers\n",
      "fibonacci_list took 3.01583e-03s to calculate 10000 fibonacci numbers\n",
      "fibonacci_gen took 1.89532e-03s to calculate 10000 fibonacci numbers\n"
     ]
    }
   ],
   "source": [
    "import timeit\n",
    "\n",
    "\n",
    "def fibonacci_list(num_items):\n",
    "    numbers = []\n",
    "    a, b = 0, 1\n",
    "    while len(numbers) < num_items:\n",
    "        numbers.append(a)\n",
    "        a, b = b, a + b\n",
    "    return numbers\n",
    "\n",
    "\n",
    "def fibonacci_gen(num_items):\n",
    "    a, b = 0, 1\n",
    "    while num_items:\n",
    "        yield a\n",
    "        a, b = b, a + b\n",
    "        num_items -= 1\n",
    "\n",
    "\n",
    "def test_fibonacci(func, N):\n",
    "    for i in func(N):\n",
    "        pass\n",
    "\n",
    "\n",
    "if __name__ == \"__main__\":\n",
    "    setup = \"from __main__ import \" \"(test_fibonacci, fibonacci_gen, fibonacci_list, N)\"\n",
    "    iterations = 1000\n",
    "\n",
    "    for N in (2, 100, 1_000, 100_00):\n",
    "        t = timeit.timeit(\n",
    "            stmt=f\"test_fibonacci(fibonacci_list, N)\", setup=setup, number=iterations\n",
    "        )\n",
    "        print(\n",
    "            f\"fibonacci_list took {t / iterations:.5e}s to calculate {N} fibonacci numbers\"\n",
    "        )\n",
    "\n",
    "        t = timeit.timeit(\n",
    "            stmt=f\"test_fibonacci(fibonacci_gen, N)\", setup=setup, number=iterations\n",
    "        )\n",
    "        print(\n",
    "            f\"fibonacci_gen took {t / iterations:.5e}s to calculate {N} fibonacci numbers\"\n",
    "        )\n"
   ]
  },
  {
   "cell_type": "markdown",
   "id": "f5da1066",
   "metadata": {},
   "source": [
    "제너레이터를 사용하도록 코드를 만들때의 꿀팁\n",
    "\n",
    "위의 내용의 경우 fibonacci_gen을 제너레이터로 사용하지만, 3으로 나뉘는 값을 배열에 저장하고 해당 배열에서 길이만 알나낸 다음에 데이터를 버린다. 이 과정에서 86MB 크기의 데이터를 소모한다.\n",
    "\n",
    "아래 코드는 메모리 사용량이 거의 없다."
   ]
  },
  {
   "cell_type": "code",
   "execution_count": 26,
   "id": "80e1f8d5",
   "metadata": {},
   "outputs": [
    {
     "data": {
      "text/plain": [
       "3"
      ]
     },
     "execution_count": 26,
     "metadata": {},
     "output_type": "execute_result"
    }
   ],
   "source": [
    "divisible_by_three = len([n for n in fibonacci_gen(10) if n%3 == 0])\n",
    "divisible_by_three2 = sum(1 for n in fibonacci_gen(10) if n%3 == 0)"
   ]
  },
  {
   "cell_type": "markdown",
   "id": "6024bf55",
   "metadata": {},
   "source": [
    "5.1 이터레이터로 무한급수 표현하기\n",
    "-------------------------------"
   ]
  },
  {
   "cell_type": "code",
   "execution_count": 28,
   "id": "a769bbd1",
   "metadata": {},
   "outputs": [],
   "source": [
    "def fibonacci():\n",
    "    i,j=0,1\n",
    "    while True:\n",
    "        yield j\n",
    "        i,j = j,i+j\n",
    "        \n",
    "def fibonacci_naive():\n",
    "    i,j=0,1\n",
    "    count = 0\n",
    "    while j< 5000:\n",
    "        if j%2 :\n",
    "            count += 1\n",
    "        i,j = j,i+j\n",
    "    return count\n",
    "\n",
    "#이게 좋대\n",
    "def fibonacci_transform():\n",
    "    count=0\n",
    "    for f in fibonacci():\n",
    "        if f > 5000:\n",
    "            break\n",
    "        if f % 2:\n",
    "            count += 1\n",
    "    return count\n",
    "\n",
    "from itertools import takewhile\n",
    "def fibonacci_succint():\n",
    "    first_5000 = takewhile(lambda x: x <= 5000, fibonacci())\n",
    "    return sum(1 for x in first_5000 if x%2)"
   ]
  },
  {
   "cell_type": "markdown",
   "id": "05ea9e92",
   "metadata": {},
   "source": [
    "5.2 제네레이터의 지연 계산\n",
    "-----------------------"
   ]
  },
  {
   "cell_type": "code",
   "execution_count": 31,
   "id": "27bba401",
   "metadata": {},
   "outputs": [
    {
     "name": "stdout",
     "output_type": "stream",
     "text": [
      "Anomaly from 1970-01-01 09:00:00 - 1970-01-01 23:59:59\n",
      "Anomaly from 1970-01-02 00:00:00 - 1970-01-02 23:59:59\n",
      "Anomaly from 1970-01-03 00:00:00 - 1970-01-03 23:59:59\n",
      "Anomaly from 1970-01-04 00:00:00 - 1970-01-04 23:59:59\n",
      "Anomaly from 1970-01-05 00:00:00 - 1970-01-05 23:59:59\n"
     ]
    }
   ],
   "source": [
    "from datetime import datetime\n",
    "from itertools import count, filterfalse, groupby, islice\n",
    "from random import normalvariate, randint\n",
    "\n",
    "from scipy.stats import normaltest\n",
    "\n",
    "\n",
    "def read_data(filename):\n",
    "    with open(filename) as fd:\n",
    "        for line in fd:\n",
    "            data = line.strip().split(\",\")\n",
    "            timestamp, value = map(int, data)\n",
    "            yield datetime.fromtimestamp(timestamp), value\n",
    "\n",
    "\n",
    "def read_fake_data(filename):\n",
    "    for timestamp in count():\n",
    "        #  We insert an anomalous data point approximately once a week\n",
    "        if randint(0, 7 * 60 * 60 * 24 - 1) == 1:\n",
    "            value = normalvariate(0, 1)\n",
    "        else:\n",
    "            value = 100\n",
    "        yield datetime.fromtimestamp(timestamp), value\n",
    "\n",
    "\n",
    "def groupby_day(iterable):\n",
    "    key = lambda row: row[0].day\n",
    "    for day, data_group in groupby(iterable, key):\n",
    "        yield list(data_group)\n",
    "\n",
    "\n",
    "def is_normal(data, threshold=1e-3):\n",
    "    _, values = zip(*data)\n",
    "    k2, p_value = normaltest(values)\n",
    "    if p_value < threshold:\n",
    "        return False\n",
    "    return True\n",
    "\n",
    "\n",
    "def filter_anomalous_groups(data):\n",
    "    yield from filterfalse(is_normal, data)\n",
    "\n",
    "\n",
    "def filter_anomalous_data(data):\n",
    "    data_group = groupby_day(data)\n",
    "    yield from filter_anomalous_groups(data_group)\n",
    "\n",
    "\n",
    "if __name__ == \"__main__\":\n",
    "    data = read_fake_data(\"fake_filename\")\n",
    "    anomaly_generator = filter_anomalous_data(data)\n",
    "    first_five_anomalies = islice(anomaly_generator, 5)\n",
    "\n",
    "    for data_anomaly in first_five_anomalies:\n",
    "        start_date = data_anomaly[0][0]\n",
    "        end_date = data_anomaly[-1][0]\n",
    "        print(f\"Anomaly from {start_date} - {end_date}\")\n"
   ]
  }
 ],
 "metadata": {
  "kernelspec": {
   "display_name": "Python 3",
   "language": "python",
   "name": "python3"
  },
  "language_info": {
   "codemirror_mode": {
    "name": "ipython",
    "version": 3
   },
   "file_extension": ".py",
   "mimetype": "text/x-python",
   "name": "python",
   "nbconvert_exporter": "python",
   "pygments_lexer": "ipython3",
   "version": "3.7.11"
  }
 },
 "nbformat": 4,
 "nbformat_minor": 5
}
