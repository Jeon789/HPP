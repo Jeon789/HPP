{
 "cells": [
  {
   "cell_type": "markdown",
   "id": "1669680f",
   "metadata": {},
   "source": [
    "Ch.6 행렬과 벡터 계산\n",
    "==================="
   ]
  },
  {
   "cell_type": "markdown",
   "id": "0dc13433",
   "metadata": {},
   "source": [
    "* 벡터 연산 병목 지점의 위치\n",
    "* 계산 과정 중에 CPU를 효율저긍로 사용하는지 알아볼 수 있는 도구\n",
    "* 산술 계산에서 numpy가 순수 파이썬보다 더 빠른 이유\n",
    "* 캐시 미스와 페이지 폴트\n",
    "* 코드 내에서 메모리 할당을 추적하는 방법"
   ]
  },
  {
   "cell_type": "markdown",
   "id": "e2c2a847",
   "metadata": {},
   "source": [
    "아래코드들은 공부하기 위해 손수 손으로 작성한것이고\n",
    "\n",
    "프로파일링에 사용된 py파일들은 저자의 파일을 사용하였다."
   ]
  },
  {
   "cell_type": "markdown",
   "id": "8b0de6fa",
   "metadata": {},
   "source": [
    "6.1 문제 소개\n",
    "-----------"
   ]
  },
  {
   "cell_type": "code",
   "execution_count": 2,
   "id": "93cd1b4b",
   "metadata": {},
   "outputs": [],
   "source": [
    "import time\n",
    "\n",
    "grid_shape = (640,640)\n",
    "\n",
    "# 한번의 dt이후를 계산하는 함수\n",
    "def evolve(grid,dt,D=1.0):\n",
    "    xmax,ymax = grid_shape\n",
    "    new_grid = [ [0.0] * ymax for x in range(xmax)]   # ---> 640x640 of all elts are 0.0\n",
    "    for i in range(xmax):\n",
    "        for j in rnage(ymax):\n",
    "            grid_xx = (\n",
    "                grid[(i+1) % xmax][j] + grid[(i-1) % xmax][j] - 2.0 * grid[i][j]\n",
    "            )\n",
    "            grid_yy = (\n",
    "                grid[i][(j+1) % ymax] + grid[i][(j-1) % ymax] - 2.0 * grid[i][j]\n",
    "            )\n",
    "            new_grid[i][j] = grid[i][j] + dt*D*(grid_xx + grid_yy)\n",
    "    return new_grid\n",
    "\n",
    "\n",
    "def run_experiment(num_iterations):\n",
    "    # 초기조건 설정\n",
    "    xmax,ymax = grid_shape\n",
    "    grid = [ [0.0] * ymax for x in range(xmax)]\n",
    "    \n",
    "    # 시뮬레이션 영역의 중간에 물감이 한 방울\n",
    "    # 떨어진 상태를 시뮬레이션 하기 위한 초기 조건들\n",
    "    block_low = int(grid_shape[0]*0.4)\n",
    "    block_high = int(grid_shape[0]*0.5)\n",
    "    for i in range(block_low,block_high):\n",
    "        for j in range(block_low,block_high):\n",
    "            grid[i][j] = 0.005\n",
    "            \n",
    "    # 초기 조건을 변경\n",
    "    start = time.time()\n",
    "    for i in range(num_iterations):\n",
    "        grid = evolve(grid,0.1)\n",
    "    return time.time()-start"
   ]
  },
  {
   "cell_type": "code",
   "execution_count": 12,
   "id": "365755e5",
   "metadata": {},
   "outputs": [],
   "source": [
    "import os\n",
    "os.chdir('/home/jaeheyoungjan/HPP/high_performance_python_2e/06_matrix/diffusion_2d')"
   ]
  },
  {
   "cell_type": "code",
   "execution_count": 14,
   "id": "7bced9cc",
   "metadata": {},
   "outputs": [
    {
     "name": "stdout",
     "output_type": "stream",
     "text": [
      "Wrote profile results to diffusion_python.py.lprof\r\n",
      "Timer unit: 1e-06 s\r\n",
      "\r\n",
      "Total time: 594.825 s\r\n",
      "File: diffusion_python.py\r\n",
      "Function: evolve at line 13\r\n",
      "\r\n",
      "Line #      Hits         Time  Per Hit   % Time  Line Contents\r\n",
      "==============================================================\r\n",
      "    13                                           @profile\r\n",
      "    14                                           def evolve(grid, dt, D=1.0):\r\n",
      "    15       500        518.0      1.0      0.0      xmax, ymax = grid_shape\r\n",
      "    16       500   19317259.0  38634.5      3.2      new_grid = [[0.0 for x in range(grid_shape[1])] for x in range(grid_shape[0])]\r\n",
      "    17    320500     165155.0      0.5      0.0      for i in range(xmax):\r\n",
      "    18 205120000  100173651.0      0.5     16.8          for j in range(ymax):\r\n",
      "    19                                                       grid_xx = (\r\n",
      "    20 204800000  168086939.0      0.8     28.3                  grid[(i + 1) % xmax][j] + grid[(i - 1) % xmax][j] - 2.0 * grid[i][j]\r\n",
      "    21                                                       )\r\n",
      "    22                                                       grid_yy = (\r\n",
      "    23 204800000  168906376.0      0.8     28.4                  grid[i][(j + 1) % ymax] + grid[i][(j - 1) % ymax] - 2.0 * grid[i][j]\r\n",
      "    24                                                       )\r\n",
      "    25 204800000  138175135.0      0.7     23.2              new_grid[i][j] = grid[i][j] + D * (grid_xx + grid_yy) * dt\r\n",
      "    26       500        271.0      0.5      0.0      return new_grid\r\n",
      "\r\n"
     ]
    }
   ],
   "source": [
    "!kernprof -lv diffusion_python.py"
   ]
  },
  {
   "cell_type": "markdown",
   "id": "4208724f",
   "metadata": {},
   "source": [
    "Line7 : global namespace에서 가져와야 하므로 실행될 때마다 시간을 많이 잡아먹는다.\n",
    "    \n",
    "Line8 : 한번할때 시간이 많이 걸리는것에 비해 전체실행시간으로 보면 비중이 낮다. grid를 키울수록 %Time이 늘것\n",
    "    \n",
    "전체적으로 도함수를 계산하고 행렬을 갱신하는데에 시간이 많이 소비되었다."
   ]
  },
  {
   "cell_type": "markdown",
   "id": "6c58c4e8",
   "metadata": {},
   "source": [
    "* [예제 6-6] 메모리 할당을 줄인 순수 파이썬 2차원 확산 방정식 코드\n",
    "\n",
    "new_grid라는 리스트를 매번 새로 할당하는데에 시간이 많이 걸리므로 이를 수정\n",
    "\n",
    "---> 메모리 할당은 비용이 많이 든다는 것을 알 수 있다."
   ]
  },
  {
   "cell_type": "code",
   "execution_count": 15,
   "id": "64abc1d3",
   "metadata": {},
   "outputs": [],
   "source": [
    "import time\n",
    "\n",
    "grid_shape = (640,640)\n",
    "\n",
    "# 한번의 dt이후를 계산하는 함수\n",
    "def evolve(grid,dt,out,D=1.0):\n",
    "    xmax,ymax = grid_shape\n",
    "    for i in range(xmax):\n",
    "        for j in rnage(ymax):\n",
    "            grid_xx = (\n",
    "                grid[(i+1) % xmax][j] + grid[(i-1) % xmax][j] - 2.0 * grid[i][j]\n",
    "            )\n",
    "            grid_yy = (\n",
    "                grid[i][(j+1) % ymax] + grid[i][(j-1) % ymax] - 2.0 * grid[i][j]\n",
    "            )\n",
    "            out[i][j] = grid[i][j] + dt*D*(grid_xx + grid_yy)\n",
    "\n",
    "\n",
    "\n",
    "def run_experiment(num_iterations):\n",
    "    # 초기조건 설정\n",
    "    xmax,ymax = grid_shape\n",
    "    next_grid = [ [0.0] * ymax for x in range(xmax)]\n",
    "    grid = [ [0.0] * ymax for x in range(xmax)]\n",
    "    \n",
    "    # 시뮬레이션 영역의 중간에 물감이 한 방울\n",
    "    # 떨어진 상태를 시뮬레이션 하기 위한 초기 조건들\n",
    "    block_low = int(grid_shape[0]*0.4)\n",
    "    block_high = int(grid_shape[0]*0.5)\n",
    "    for i in range(block_low,block_high):\n",
    "        for j in range(block_low,block_high):\n",
    "            grid[i][j] = 0.005\n",
    "            \n",
    "    # 초기 조건을 변경\n",
    "    start = time.time()\n",
    "    for i in range(num_iterations):\n",
    "        evolve(grid,0.1,next_grid)\n",
    "        grid,next_grid = next_grid,grid\n",
    "    return time.time()-start"
   ]
  },
  {
   "cell_type": "code",
   "execution_count": 20,
   "id": "0d1e68ed",
   "metadata": {},
   "outputs": [
    {
     "name": "stdout",
     "output_type": "stream",
     "text": [
      "Wrote profile results to diffusion_python_memory.py.lprof\r\n",
      "Timer unit: 1e-06 s\r\n",
      "\r\n",
      "Total time: 429.986 s\r\n",
      "File: diffusion_python_memory.py\r\n",
      "Function: evolve at line 13\r\n",
      "\r\n",
      "Line #      Hits         Time  Per Hit   % Time  Line Contents\r\n",
      "==============================================================\r\n",
      "    13                                           @profile\r\n",
      "    14                                           def evolve(grid, dt, out, D=1.0):\r\n",
      "    15       500        278.0      0.6      0.0      xmax, ymax = grid_shape\r\n",
      "    16    320500     108716.0      0.3      0.0      for i in range(xmax):\r\n",
      "    17 205120000   66310333.0      0.3     15.4          for j in range(ymax):\r\n",
      "    18                                                       grid_xx = (\r\n",
      "    19 204800000  127199171.0      0.6     29.6                  grid[(i + 1) % xmax][j] + grid[(i - 1) % xmax][j] - 2.0 * grid[i][j]\r\n",
      "    20                                                       )\r\n",
      "    21                                                       grid_yy = (\r\n",
      "    22 204800000  131963217.0      0.6     30.7                  grid[i][(j + 1) % ymax] + grid[i][(j - 1) % ymax] - 2.0 * grid[i][j]\r\n",
      "    23                                                       )\r\n",
      "    24 204800000  104403950.0      0.5     24.3              out[i][j] = grid[i][j] + D * (grid_xx + grid_yy) * dt\r\n",
      "\r\n"
     ]
    }
   ],
   "source": [
    "!kernprof -lv diffusion_python_memory.py"
   ]
  },
  {
   "cell_type": "markdown",
   "id": "7b6a7206",
   "metadata": {},
   "source": [
    "6.3 메모리 단편화\n",
    "----------------"
   ]
  },
  {
   "cell_type": "markdown",
   "id": "29e39c46",
   "metadata": {},
   "source": [
    "파이썬은 벡터 연산을 기본으로 제공하지 않는다.\n",
    "\n",
    "이유 1. 파이썬의 리스트는 실제 데이터를 가리키는 포인터를 저장한다.\n",
    "\n",
    "이유 2. 파이썬 바이트 코드는 벡터 연산에 최적화되지 않았다\n",
    "\n",
    "따라서 for 루프는 벡터 연산을 언제 수행해야 도움이 되는지 예측할 수 없다."
   ]
  },
  {
   "cell_type": "markdown",
   "id": "e3a2de62",
   "metadata": {},
   "source": [
    "ex) grid[5][2]를 실행하면 먼저 grid리스트에서 5번째 항목을 찾아 반환한다. 이 값은 데이터가 실제로 저장된 위치를 가리키는 포인터다. 그리고 이렇게 반환된 객체에서 2번쨰 항목을 찾는다. 이과정까지 거쳐야 실제 데이터가 저장된 위치를 알 수 있다."
   ]
  },
  {
   "cell_type": "code",
   "execution_count": null,
   "id": "8899f488",
   "metadata": {},
   "outputs": [],
   "source": [
    "!perf stat -e cycles,instructions,\\\n",
    "    cache-references,cache-misses,branches,brance-misses,task-clock,faults,\\\n",
    "    minor-faults,cs,migrations python diffusion_python_memory.py\n",
    "\n",
    "#sudo 권한이 없어 결과는 저자의 것을 베껴옴"
   ]
  },
  {
   "cell_type": "markdown",
   "id": "15deca69",
   "metadata": {},
   "source": [
    "\n",
    "Performance counter stats for 'python diffusion_python_memory.py':\n",
    "\n",
    "       415,864,974,126      cycles                    #    2.889 GHz                      \n",
    "     1,210,522,769,388      instructions              #    2.91  insn per cycle           \n",
    "           656,345,027      cache-references          #    4.560 M/sec                    \n",
    "           349,562,390      cache-misses              #   53.259 % of all cache refs      \n",
    "       251,537,944,600      branches                  # 1747.583 M/sec                    \n",
    "         1,970,031,461      branch-misses             #    0.78% of all branches          \n",
    "         143934.730837      task-clock (msec)         #    1.000 CPUs utilized          \n",
    "                12,791      faults                    #    0.089 K/sec                  \n",
    "                12,791      minor-faults              #    0.089 K/sec                  \n",
    "                   117      cs                        #    0.001 K/sec                  \n",
    "                     6      migrations                #    0.000 K/sec                  \n",
    "                 \n",
    "     143.935522122 seconds time elapsed\n",
    "\n"
   ]
  },
  {
   "cell_type": "markdown",
   "id": "7fb04067",
   "metadata": {},
   "source": [
    "* numpy예제 --> numpy가 가장 빠르다\n",
    "\n",
    "(1)에는 vector에 대한 두 번의 루프가 내재되어 있다. 하나는 곱셈을 수행하고 다른 하나는 덧셈을 수행한다. 이 루프는 norm_square_list_comprehension의 루프와 유사하지만 numpy의 최적화된 계산 코드를 사용해 실행된다."
   ]
  },
  {
   "cell_type": "code",
   "execution_count": 31,
   "id": "e7718f7f",
   "metadata": {},
   "outputs": [],
   "source": [
    "from array import array\n",
    "import numpy\n",
    "import time\n",
    "\n",
    "\n",
    "def norm_square_list(vector):\n",
    "    #vector = list(range(1000000))\n",
    "    norm = 0\n",
    "    for v in vector:\n",
    "        norm += v * v\n",
    "    return norm\n",
    "\n",
    "def norm_square_list_comprehension(vector):\n",
    "    #vector = list(range(1000000))\n",
    "    return sum([v*v for v in vector])\n",
    "\n",
    "def norm_square_array(vector):\n",
    "    #vector_array = array('l',range(1000000))\n",
    "    norm = 0\n",
    "    for v in vector:\n",
    "        norm += v*v\n",
    "    return norm\n",
    "\n",
    "def norm_square_numpy(vector):\n",
    "    #vector_np = numpy.arange(1000000)\n",
    "    return numpy.sum(vector*vector)       #--------(1)\n",
    "\n",
    "def norm_square_numpy_dot(vector):\n",
    "    #vector_np = numpy.arange(1000000)\n",
    "    return numpy.dot(vector,vector)\n"
   ]
  },
  {
   "cell_type": "code",
   "execution_count": 33,
   "id": "751b4985",
   "metadata": {},
   "outputs": [
    {
     "name": "stdout",
     "output_type": "stream",
     "text": [
      "55.8 ms ± 873 µs per loop (mean ± std. dev. of 7 runs, 10 loops each)\n",
      "59.9 ms ± 388 µs per loop (mean ± std. dev. of 7 runs, 10 loops each)\n",
      "64.4 ms ± 308 µs per loop (mean ± std. dev. of 7 runs, 10 loops each)\n",
      "1.27 ms ± 9.96 µs per loop (mean ± std. dev. of 7 runs, 1000 loops each)\n",
      "668 µs ± 1.6 µs per loop (mean ± std. dev. of 7 runs, 1000 loops each)\n"
     ]
    }
   ],
   "source": [
    "vector = list(range(1000000))\n",
    "vector_array = array('l',range(1000000))\n",
    "vector_np = numpy.arange(1000000)\n",
    "%timeit norm_square_list(vector)\n",
    "%timeit norm_square_list_comprehension(vector)\n",
    "%timeit norm_square_array(vector_array)\n",
    "%timeit norm_square_numpy(vector_np)\n",
    "%timeit norm_square_numpy_dot(vector_np)"
   ]
  },
  {
   "cell_type": "markdown",
   "id": "a682ac02",
   "metadata": {},
   "source": [
    "6.4 넘파이를 이용한 확산 방정식 해법\n",
    "-------------------------------------------------"
   ]
  },
  {
   "cell_type": "markdown",
   "id": "856bce6a",
   "metadata": {},
   "source": [
    "- numpy를 이용해서 순수 파이썬 코드를 벡터화시켜보자.\n",
    "\n",
    "- numpy의 roll함수 소개"
   ]
  },
  {
   "cell_type": "code",
   "execution_count": 7,
   "id": "482da759",
   "metadata": {},
   "outputs": [
    {
     "name": "stdout",
     "output_type": "stream",
     "text": [
      "[4 1 2 3]\n",
      "[[3 1 2]\n",
      " [6 4 5]]\n"
     ]
    }
   ],
   "source": [
    "import numpy as np\n",
    "\n",
    "print(\n",
    "    np.roll([1,2,3,4],1)\n",
    "    )\n",
    "\n",
    "print(\n",
    "    np.roll([[1,2,3],[4,5,6]],1,axis=1)\n",
    "    )"
   ]
  },
  {
   "cell_type": "markdown",
   "id": "7f23dd4d",
   "metadata": {},
   "source": [
    "roll 함수를 사용하여 [예제6-6]의 파이썬 확산 방정식 코드를 수정\n",
    "\n",
    "* 예제6-9 numpy를 사용한 파이썬 확산 방정식 최초 버전"
   ]
  },
  {
   "cell_type": "code",
   "execution_count": 9,
   "id": "42890694",
   "metadata": {},
   "outputs": [],
   "source": [
    "import time\n",
    "from numpy import (zeros,roll)\n",
    "\n",
    "grid_shape = (640,640)\n",
    "\n",
    "def laplacian(grid):\n",
    "    return (\n",
    "        roll(grid,+1,0)+\n",
    "        roll(grid,-1,0)+\n",
    "        roll(grid,+1,1)+\n",
    "        roll(grid,-1,1)-\n",
    "        4 * grid\n",
    "            )\n",
    "\n",
    "def evolve(grid,dt,D=1):\n",
    "    return grid + dt*D*laplacian(grid)\n",
    "\n",
    "def run_experiment(num_iterations):\n",
    "    grid = zeros(grid_shape)\n",
    "    \n",
    "    block_row = int(grid_shape[0]*0.4)\n",
    "    block_high = int(grid_shape[0]*0.5)\n",
    "    grid[block_row:block_high,block_row:block_high] = 0.005\n",
    "    \n",
    "    start = time.time()\n",
    "    for i in range(num_iterations):\n",
    "        grid = evolve(grid,0.1)\n",
    "        \n",
    "    return time.time() - start"
   ]
  },
  {
   "cell_type": "markdown",
   "id": "c55118b7",
   "metadata": {},
   "source": [
    "&nbsp;\n",
    "&nbsp;\n",
    "&nbsp;\n",
    "&nbsp;\n",
    "&nbsp;\n",
    "\n",
    "* [예제 6-10] numpy를 사용한 2차원 확산 방정식의 성능 측정\n",
    "\n",
    "(sudo 권한이 없어 결과는 저자의 것을 베껴옴)"
   ]
  },
  {
   "cell_type": "code",
   "execution_count": null,
   "id": "73006142",
   "metadata": {},
   "outputs": [],
   "source": [
    "!perf stat -e cycles,instructions,\\\n",
    "    cache-references,cache-misses,branches,brance-misses,task-clock,faults,\\\n",
    "    minor-faults,cs,migrations python diffusion_numpy.py"
   ]
  },
  {
   "cell_type": "markdown",
   "id": "37ff6202",
   "metadata": {},
   "source": [
    "\n",
    " Performance counter stats for 'python diffusion_numpy.py':\n",
    "\n",
    "     8,432,416,866      cycles                    #    2.886 GHz                      \n",
    "     7,114,758,602      instructions              #    0.84  insn per cycle           \n",
    "     1,040,831,469      cache-references          #  356.176 M/sec                    \n",
    "       216,490,683      cache-misses              #   20.800 % of all cache refs      \n",
    "     1,252,928,847      branches                  #  428.756 M/sec                    \n",
    "         8,174,531      branch-misses             #    0.65% of all branches          \n",
    "       2922.239426      task-clock (msec)         #    1.285 CPUs utilized          \n",
    "           403,282      faults                    #    0.138 M/sec                  \n",
    "           403,282      minor-faults              #    0.138 M/sec                  \n",
    "                96      cs                        #    0.033 K/sec                  \n",
    "                 5      migrations                #    0.002 K/sec                  \n",
    "\n",
    "       2.274377105 seconds time elapsed"
   ]
  },
  {
   "cell_type": "markdown",
   "id": "4396f1eb",
   "metadata": {},
   "source": [
    "* [예제 6-11] 벡터 연산 기능을 제회한 numpy 2차원 확산 방정식의 성능"
   ]
  },
  {
   "cell_type": "code",
   "execution_count": null,
   "id": "f802c1b0",
   "metadata": {},
   "outputs": [],
   "source": [
    "!perf stat -e cycles,instructions,\\\n",
    "    cache-references,cache-misses,branches,brance-misses,task-clock,faults,\\\n",
    "    minor-faults,cs,migrations python diffusion_numpy.py"
   ]
  },
  {
   "cell_type": "markdown",
   "id": "4274ecf2",
   "metadata": {},
   "source": [
    " Performance counter stats for 'python diffusion_numpy.py':\n",
    "\n",
    "    50,086,999,350      cycles                    #    2.888 GHz                      \n",
    "    53,611,608,977      instructions              #    1.07  insn per cycle           \n",
    "     1,131,742,674      cache-references          #   65.266 M/sec                    \n",
    "       322,483,897      cache-misses              #   28.494 % of all cache refs      \n",
    "     4,001,923,035      branches                  #  230.785 M/sec                    \n",
    "         6,211,101      branch-misses             #    0.16% of all branches          \n",
    "      17340.464580      task-clock (msec)         #    1.000 CPUs utilized          \n",
    "           403,193      faults                    #    0.023 M/sec                  \n",
    "           403,193      minor-faults              #    0.023 M/sec                  \n",
    "                74      cs                        #    0.004 K/sec                  \n",
    "                 6      migrations                #    0.000 K/sec                  \n",
    "\n",
    "      17.339656586 seconds time elapsed"
   ]
  },
  {
   "cell_type": "markdown",
   "id": "57d7aad0",
   "metadata": {},
   "source": [
    "해석 : 속도 개선은 벡터 연산 때문이라기보다 메모리 단편화의 감소와 메모리 지역성 덕분이라고 볼 수 있다."
   ]
  },
  {
   "cell_type": "markdown",
   "id": "196b0526",
   "metadata": {},
   "source": [
    "&nbsp;\n",
    "&nbsp;\n",
    "&nbsp;\n",
    "&nbsp;\n",
    "&nbsp;\n",
    "\n",
    "6.4.1 메모리 할당과 제자리 연산\n",
    "----------------------------"
   ]
  },
  {
   "cell_type": "markdown",
   "id": "633291e0",
   "metadata": {},
   "source": [
    "* [예제 6-12] 메모리 할당을 줄이기 위한 제자리 연산"
   ]
  },
  {
   "cell_type": "code",
   "execution_count": 1,
   "id": "d520f116",
   "metadata": {},
   "outputs": [
    {
     "name": "stdout",
     "output_type": "stream",
     "text": [
      "139691745065744\n",
      "139691745065744\n",
      "139691745066320\n"
     ]
    }
   ],
   "source": [
    "import numpy as np\n",
    "array1 = np.random.random((10,10))\n",
    "array2 = np.random.random((10,10))\n",
    "\n",
    "print(id(array1))\n",
    "\n",
    "array1 += array2\n",
    "print(id(array1))\n",
    "\n",
    "array1 = array1 + array2       # ----> 메모리 주소가 바뀜\n",
    "print(id(array1))"
   ]
  },
  {
   "cell_type": "code",
   "execution_count": 9,
   "id": "ef06eadd",
   "metadata": {},
   "outputs": [
    {
     "name": "stdout",
     "output_type": "stream",
     "text": [
      "5.51 µs ± 31.3 ns per loop (mean ± std. dev. of 7 runs, 100000 loops each)\n"
     ]
    }
   ],
   "source": [
    "%%timeit array1,array2 = np.random.random((2,100,100))\n",
    "array1 = array1 + array2"
   ]
  },
  {
   "cell_type": "code",
   "execution_count": 10,
   "id": "41f56d36",
   "metadata": {},
   "outputs": [
    {
     "name": "stdout",
     "output_type": "stream",
     "text": [
      "4.54 µs ± 171 ns per loop (mean ± std. dev. of 7 runs, 100000 loops each)\n"
     ]
    }
   ],
   "source": [
    "%%timeit array1,array2 = np.random.random((2,100,100))\n",
    "array1 += array2"
   ]
  },
  {
   "cell_type": "code",
   "execution_count": 11,
   "id": "38935e68",
   "metadata": {},
   "outputs": [
    {
     "name": "stdout",
     "output_type": "stream",
     "text": [
      "461 ns ± 3.36 ns per loop (mean ± std. dev. of 7 runs, 1000000 loops each)\n"
     ]
    }
   ],
   "source": [
    "%%timeit array1,array2 = np.random.random((2,5,5))\n",
    "array1 = array1 + array2"
   ]
  },
  {
   "cell_type": "code",
   "execution_count": 12,
   "id": "3c6b25e8",
   "metadata": {},
   "outputs": [
    {
     "name": "stdout",
     "output_type": "stream",
     "text": [
      "1.06 µs ± 0.662 ns per loop (mean ± std. dev. of 7 runs, 1000000 loops each)\n"
     ]
    }
   ],
   "source": [
    "%%timeit array1,array2 = np.random.random((2,5,5))\n",
    "array1 += array2"
   ]
  },
  {
   "cell_type": "markdown",
   "id": "e4175d78",
   "metadata": {},
   "source": [
    "해석 : 제자리 연산은 메모리 할당을 할 필요가 없으므로 속도가 더 빠르다    \n",
    "다만 배열 크기가 CPU캐십다 큰 경우에만 이점이 있다. 배열 크기가 작으면 그냥 하는게 더 낫다"
   ]
  },
  {
   "cell_type": "markdown",
   "id": "de3250e2",
   "metadata": {},
   "source": [
    "* [예제 6-14] numpy연산을 제자리 연산으로 변경"
   ]
  },
  {
   "cell_type": "code",
   "execution_count": null,
   "id": "d9c3af54",
   "metadata": {},
   "outputs": [],
   "source": [
    "import time\n",
    "from numpy import (zeros,roll)\n",
    "\n",
    "grid_shape = (640,640)\n",
    "\n",
    "def laplacian(grid,out):\n",
    "    np.copyto(out,grid)\n",
    "    out *= -4\n",
    "    out += np.roll(grid,+1,0)\n",
    "    out += np.roll(grid,-1,0)\n",
    "    out += np.roll(grid,+1,1)\n",
    "    out += np.roll(grid,-1,1)\n",
    "\n",
    "def evolve(grid,dt,out,D=1):\n",
    "    laplacia(grid,out)\n",
    "    out *= D*dt\n",
    "    out += grid\n",
    "\n",
    "def run_experiment(num_iterations):\n",
    "    next_grid = np.zeros(grid_shape)\n",
    "    grid = zeros(grid_shape)\n",
    "    \n",
    "    block_row = int(grid_shape[0]*0.4)\n",
    "    block_high = int(grid_shape[0]*0.5)\n",
    "    grid[block_row:block_high,block_row:block_high] = 0.005\n",
    "    \n",
    "    start = time.time()\n",
    "    for i in range(num_iterations):\n",
    "        evolve(grid,0.1,next_grid)\n",
    "        grid,next_grid = next_grid,grid\n",
    "        \n",
    "    return time.time() - start"
   ]
  },
  {
   "cell_type": "code",
   "execution_count": null,
   "id": "744d7324",
   "metadata": {},
   "outputs": [],
   "source": [
    "!perf stat -e cycles,instructions,\\\n",
    "    cache-references,cache-misses,branches,brance-misses,task-clock,faults,\\\n",
    "    minor-faults,cs,migrations python diffusion_numpy_memory.py"
   ]
  },
  {
   "cell_type": "markdown",
   "id": "ae7bc695",
   "metadata": {},
   "source": [
    "\n",
    " Performance counter stats for 'python diffusion_numpy_memory.py':\n",
    "\n",
    "     6,880,906,446      cycles                    #    2.886 GHz                      \n",
    "     5,848,134,537      instructions              #    0.85  insn per cycle           \n",
    "     1,077,550,720      cache-references          #  452.000 M/sec                    \n",
    "       217,974,413      cache-misses              #   20.229 % of all cache refs      \n",
    "     1,028,769,315      branches                  #  431.538 M/sec                    \n",
    "         7,492,245      branch-misses             #    0.73% of all branches          \n",
    "       2383.962679      task-clock (msec)         #    1.373 CPUs utilized          \n",
    "            13,521      faults                    #    0.006 M/sec                  \n",
    "            13,521      minor-faults              #    0.006 M/sec                  \n",
    "               100      cs                        #    0.042 K/sec                  \n",
    "                 8      migrations                #    0.003 K/sec                  \n",
    "\n",
    "       1.736322099 seconds time elapsed\n",
    "\n"
   ]
  },
  {
   "cell_type": "code",
   "execution_count": null,
   "id": "5831413e",
   "metadata": {},
   "outputs": [],
   "source": [
    "이후 내용은 포기..... 너무 딥러닝과는 거리가 멀고 너무 깊다"
   ]
  }
 ],
 "metadata": {
  "kernelspec": {
   "display_name": "Python 3",
   "language": "python",
   "name": "python3"
  },
  "language_info": {
   "codemirror_mode": {
    "name": "ipython",
    "version": 3
   },
   "file_extension": ".py",
   "mimetype": "text/x-python",
   "name": "python",
   "nbconvert_exporter": "python",
   "pygments_lexer": "ipython3",
   "version": "3.7.11"
  }
 },
 "nbformat": 4,
 "nbformat_minor": 5
}
